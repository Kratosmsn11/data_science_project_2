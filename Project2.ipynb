{
  "cells": [
    {
      "cell_type": "markdown",
      "metadata": {
        "id": "eBS0nqDro3Yh"
      },
      "source": [
        "#**CST338 Project II: Predicting Arrival Delay for Domestic Flights in the US**\n",
        "---\n",
        "\n",
        ">Authors: Esha Sawant, Siddhi Ghorpade, Vighnesh Prabhu\n",
        "\n",
        "\n",
        "> Date: December 4, 2021.\n",
        "\n",
        "\n",
        "\n"
      ]
    },
    {
      "cell_type": "markdown",
      "source": [
        "#**Introduction**\n",
        "\n",
        "\n",
        "\n",
        "\n",
        "\n",
        "\n",
        "\n"
      ],
      "metadata": {
        "id": "h2SLFv0mjvhy"
      }
    },
    {
      "cell_type": "markdown",
      "source": [
        "\n",
        "\n",
        "From having to go through airport security to lost baggage, the most common air travel inconveniences are flight delays and cancellations. Accurate estimation of flight delay is critical for both airlines and passengers and can be advantageous in improving flyer experience as well as profits. \n",
        "A 15 minute delay past scheduled arrival time means that the flight is considered delayed by the Federal Aviation Administration (FAA). \n",
        "\n",
        "> This project proposes two models for predicting-\n",
        "*   Whether a domestic flight will be delayed or not\n",
        "*   Domestic flight delays during holiday season (the month of December)\n",
        "\n",
        "> The dataset that we will use for this project was downloaded from Kaggle on December 4, 2021 - https://www.kaggle.com/giovamata/airlinedelaycauses\n",
        "\n",
        "It contains records of delayed, cancelled, diverted and on-time domestic flights operated by large carriers for the year 2008 collected by the U.S. Department of Transportation's (DOT) Bureau of Transportation Statistics (BTS). This dataset is a subset of a dataset from the Statistical Computing Statistical Graphics 2009 Data Expo which contains records from 1987 to 2008. It was compiled by owner Giovanni Gonzalez in 2016 and made available to the public on Kaggle. It was last updated in 2019.\n",
        "\n",
        "The dataset has approximately 2 million records of domestic flights providing the scheduled and delayed times, reasons for delay, carrier name, destination and source airports, and much more. All information essential for predicting delay.  "
      ],
      "metadata": {
        "id": "155KUfXXnTD7"
      }
    },
    {
      "cell_type": "markdown",
      "source": [
        "#**Reading the data**"
      ],
      "metadata": {
        "id": "XZDANGZxn_--"
      }
    },
    {
      "cell_type": "code",
      "execution_count": null,
      "metadata": {
        "id": "ELP2vZQGrURU"
      },
      "outputs": [],
      "source": [
        "#Importing all the libraries\n",
        "import numpy as np\n",
        "import pandas as pd\n",
        "import matplotlib.pyplot as plt\n",
        "from matplotlib import rcParams\n",
        "import seaborn as sns        \n",
        "from sklearn.model_selection import train_test_split\n",
        "from sklearn.metrics import confusion_matrix\n",
        "from sklearn.tree import DecisionTreeClassifier, export_graphviz, plot_tree\n",
        "from sklearn.model_selection import learning_curve, GridSearchCV\n",
        "from sklearn.neighbors import KNeighborsClassifier\n",
        "from sklearn.preprocessing import StandardScaler, PolynomialFeatures\n",
        "from sklearn.model_selection import cross_val_score\n",
        "from sklearn import tree\n",
        "import graphviz \n",
        "\n",
        "#graphics5\n",
        "rcParams['figure.figsize']=10,6\n",
        "sns.set_context('notebook')"
      ]
    },
    {
      "cell_type": "code",
      "source": [
        "# Mounting Google Drive on runtime's virtual machine\n",
        "from google.colab import drive\n",
        "drive.mount('/content/drive',force_remount=True)"
      ],
      "metadata": {
        "colab": {
          "base_uri": "https://localhost:8080/"
        },
        "id": "WqptQcSxYhvq",
        "outputId": "16493f1c-c4f9-4339-988e-17ba8ec07d2e"
      },
      "execution_count": null,
      "outputs": [
        {
          "output_type": "stream",
          "name": "stdout",
          "text": [
            "Mounted at /content/drive\n"
          ]
        }
      ]
    },
    {
      "cell_type": "code",
      "execution_count": null,
      "metadata": {
        "id": "kkk3GvZwsOIs"
      },
      "outputs": [],
      "source": [
        "# Reading the dataset and storing it in a dataframe\n",
        "data_dir='/content/drive/MyDrive/DelayedFlights.csv'\n",
        "df = pd.read_csv(data_dir,low_memory=False)"
      ]
    },
    {
      "cell_type": "code",
      "source": [
        "#df=df.sample(n=200000)"
      ],
      "metadata": {
        "id": "1TmhTH4uea32"
      },
      "execution_count": null,
      "outputs": []
    },
    {
      "cell_type": "markdown",
      "source": [
        "#**Initial** **Exploration**"
      ],
      "metadata": {
        "id": "UeV2MIjntJcz"
      }
    },
    {
      "cell_type": "markdown",
      "source": [
        "> We will start off by getting a quick overview of the data. \n",
        "The df.info() method will help us get a quick look at the number of rows and columns, dtypes and non_null values."
      ],
      "metadata": {
        "id": "hQVoY8Auh6Zh"
      }
    },
    {
      "cell_type": "code",
      "execution_count": null,
      "metadata": {
        "colab": {
          "base_uri": "https://localhost:8080/"
        },
        "id": "FYvY_GDNsy89",
        "outputId": "3b379df8-e58b-45d5-bad1-a630f4e8c86e"
      },
      "outputs": [
        {
          "output_type": "stream",
          "name": "stdout",
          "text": [
            "<class 'pandas.core.frame.DataFrame'>\n",
            "RangeIndex: 1936758 entries, 0 to 1936757\n",
            "Data columns (total 30 columns):\n",
            " #   Column             Dtype  \n",
            "---  ------             -----  \n",
            " 0   Unnamed: 0         int64  \n",
            " 1   Year               int64  \n",
            " 2   Month              int64  \n",
            " 3   DayofMonth         int64  \n",
            " 4   DayOfWeek          int64  \n",
            " 5   DepTime            float64\n",
            " 6   CRSDepTime         int64  \n",
            " 7   ArrTime            float64\n",
            " 8   CRSArrTime         int64  \n",
            " 9   UniqueCarrier      object \n",
            " 10  FlightNum          int64  \n",
            " 11  TailNum            object \n",
            " 12  ActualElapsedTime  float64\n",
            " 13  CRSElapsedTime     float64\n",
            " 14  AirTime            float64\n",
            " 15  ArrDelay           float64\n",
            " 16  DepDelay           float64\n",
            " 17  Origin             object \n",
            " 18  Dest               object \n",
            " 19  Distance           int64  \n",
            " 20  TaxiIn             float64\n",
            " 21  TaxiOut            float64\n",
            " 22  Cancelled          int64  \n",
            " 23  CancellationCode   object \n",
            " 24  Diverted           int64  \n",
            " 25  CarrierDelay       float64\n",
            " 26  WeatherDelay       float64\n",
            " 27  NASDelay           float64\n",
            " 28  SecurityDelay      float64\n",
            " 29  LateAircraftDelay  float64\n",
            "dtypes: float64(14), int64(11), object(5)\n",
            "memory usage: 443.3+ MB\n"
          ]
        }
      ],
      "source": [
        "df.info()"
      ]
    },
    {
      "cell_type": "markdown",
      "source": [
        "\n",
        "As we can see from the output, the dataset has 1936758 records of domestic flights and 43 columns. Majority of the columns contain numeric data with only 5 columns containing non-numeric values. The result however doesn't give us much idea about what information each column stores. \n",
        "\n"
      ],
      "metadata": {
        "id": "MIDeYgwvposZ"
      }
    },
    {
      "cell_type": "markdown",
      "source": [
        "The column 'Unnamed: 0' doesn't seem to store any useful information. It would be helpful to drop it at this stage itself."
      ],
      "metadata": {
        "id": "Eq612eU4hUYR"
      }
    },
    {
      "cell_type": "code",
      "source": [
        "df.drop('Unnamed: 0',axis=1, inplace=True)"
      ],
      "metadata": {
        "id": "G_rCwCk2hGT4"
      },
      "execution_count": null,
      "outputs": []
    },
    {
      "cell_type": "markdown",
      "source": [
        "**Here is a data dictionary for the harder to interpret columns in the dataset -**\n",
        "\n",
        "\n",
        "---\n",
        "\n",
        "\n",
        "\n",
        "> **DepTime** - actual departure time \n",
        "\n",
        "> **CRSDepTime** - scheduled departure time \n",
        "\n",
        "> **ArrTime** - actual arrival time \n",
        "\n",
        "> **CRSArrTime** - scheduled arrival time \n",
        "\n",
        "> **UniqueCarrier** - carrier ID  \n",
        "\n",
        "> **ActualElapsedTime** - actual elapsed time of the flight, in minutes\n",
        "\n",
        "> **CRSElapsedTime** - \n",
        "scheduled elapsed time of the flight, in minutes\n",
        "\n",
        "> **AirTime** -\n",
        "airborne time for the flight, in minutes\n",
        "\n",
        "> **ArrDelay** arrival delay, in minutes\n",
        "\n",
        "> **Distance** distance between airports, in miles\n",
        "\n",
        "> **DepDelay** - \n",
        "departure delay, in minutes\n",
        "\n",
        "> **WeatherDelay** - \n",
        "delay, in minutes, attributable to weather factors\n",
        "\n",
        "> **CarrierDelay** - \n",
        "delay, in minutes, attributable to the carrier\n",
        "\n",
        "> **NASDelay** - delay, in minutes, attributable to the National Aviation System\n",
        "\n",
        "> **SecurityDelay** - \n",
        "delay, in minutes, attributable to security factors\n",
        "\n",
        ">**LateAircraftDelay** - \n",
        "delay, in minutes, attributable to late-arriving aircraft\n",
        "\n",
        "---"
      ],
      "metadata": {
        "id": "MaBay2m2vIDd"
      }
    },
    {
      "cell_type": "markdown",
      "source": [
        "To have look at the number of unique values in each column, we use the nunique() function."
      ],
      "metadata": {
        "id": "coS1eVpj4y1z"
      }
    },
    {
      "cell_type": "code",
      "source": [
        "df.nunique()"
      ],
      "metadata": {
        "colab": {
          "base_uri": "https://localhost:8080/"
        },
        "id": "XZ8-TorHwZ1_",
        "outputId": "15a8a894-086e-440c-d9bc-99847eb71a44"
      },
      "execution_count": null,
      "outputs": [
        {
          "output_type": "execute_result",
          "data": {
            "text/plain": [
              "Year                    1\n",
              "Month                  12\n",
              "DayofMonth             31\n",
              "DayOfWeek               7\n",
              "DepTime              1438\n",
              "CRSDepTime           1207\n",
              "ArrTime              1440\n",
              "CRSArrTime           1364\n",
              "UniqueCarrier          20\n",
              "FlightNum            7499\n",
              "TailNum              5366\n",
              "ActualElapsedTime     673\n",
              "CRSElapsedTime        515\n",
              "AirTime               650\n",
              "ArrDelay             1128\n",
              "DepDelay             1058\n",
              "Origin                303\n",
              "Dest                  304\n",
              "Distance             1419\n",
              "TaxiIn                180\n",
              "TaxiOut               332\n",
              "Cancelled               2\n",
              "CancellationCode        4\n",
              "Diverted                2\n",
              "CarrierDelay          983\n",
              "WeatherDelay          599\n",
              "NASDelay              574\n",
              "SecurityDelay         156\n",
              "LateAircraftDelay     564\n",
              "dtype: int64"
            ]
          },
          "metadata": {},
          "execution_count": 65
        }
      ]
    },
    {
      "cell_type": "markdown",
      "source": [
        "**What kind of variables are we dealing with?**\n",
        "\n",
        "> A lot of the numeric features in the dataframe store time related information. Therefore, they are cyclical and will have to be encoded before use.\n",
        "\n",
        "> 'Cancelled' and 'Diverted' are numeric and have no NA values but have only two unique values. It can be said that these are encoded categorical variables.\n",
        "\n",
        "> 'Origin', 'Dest' and 'UniqueCarrier' all contain string values but have few unique values. These columns store information about the air carrier and airports so it is safe to say that these are encoded as well.\n"
      ],
      "metadata": {
        "id": "bfZFBxow6Rl5"
      }
    },
    {
      "cell_type": "markdown",
      "source": [
        "\n",
        "It can also be observed that about half of the columns have NA values. \n",
        "We will make use of the isna() function to compute the percentage of NA values in our dataset."
      ],
      "metadata": {
        "id": "vFZCxGW8u1Bt"
      }
    },
    {
      "cell_type": "code",
      "source": [
        "print('Percentage of NA values = {:.4f}%'.format(df.isna().mean().mean()*100))"
      ],
      "metadata": {
        "id": "kiQy2W7gghb1",
        "colab": {
          "base_uri": "https://localhost:8080/"
        },
        "outputId": "f6bdeade-4388-4261-820b-ecb92c75dfb7"
      },
      "execution_count": null,
      "outputs": [
        {
          "output_type": "stream",
          "name": "stdout",
          "text": [
            "Percentage of NA values = 6.2073%\n"
          ]
        }
      ]
    },
    {
      "cell_type": "markdown",
      "source": [
        "Approximately 6% of the values in the dataset are NA. We use isna() once again to understand which columns have the bigger fraction of NA values."
      ],
      "metadata": {
        "id": "C74ERsnkJk7d"
      }
    },
    {
      "cell_type": "code",
      "source": [
        "df.isna().mean().sort_values(ascending=False)[:15].round(4)"
      ],
      "metadata": {
        "colab": {
          "base_uri": "https://localhost:8080/"
        },
        "id": "oiS8tGRDnX_d",
        "outputId": "2edee688-a7d6-4d75-f2d3-063da1c2e4e4"
      },
      "execution_count": null,
      "outputs": [
        {
          "output_type": "execute_result",
          "data": {
            "text/plain": [
              "LateAircraftDelay    0.3559\n",
              "SecurityDelay        0.3559\n",
              "NASDelay             0.3559\n",
              "WeatherDelay         0.3559\n",
              "CarrierDelay         0.3559\n",
              "ActualElapsedTime    0.0043\n",
              "AirTime              0.0043\n",
              "ArrDelay             0.0043\n",
              "ArrTime              0.0037\n",
              "TaxiIn               0.0037\n",
              "TaxiOut              0.0002\n",
              "CRSElapsedTime       0.0001\n",
              "TailNum              0.0000\n",
              "DepDelay             0.0000\n",
              "Cancelled            0.0000\n",
              "dtype: float64"
            ]
          },
          "metadata": {},
          "execution_count": 67
        }
      ]
    },
    {
      "cell_type": "markdown",
      "source": [
        "The columns containing delay minutes attributed to specific causes contain a lot of NA values. This might be because air carriers do not investigate the delay caused by specific causes enough and tend to focus on the overall delay caused. There are a few other columns with less than 1% of the data being NA.\n",
        "\n"
      ],
      "metadata": {
        "id": "ucOu0fcBuIxA"
      }
    },
    {
      "cell_type": "markdown",
      "source": [
        "**What about bad data in the dataset?**"
      ],
      "metadata": {
        "id": "DBTpW2ajfNLX"
      }
    },
    {
      "cell_type": "markdown",
      "source": [
        "We look at boxplots of the features we think might be good predictors for target 'ArrDelay' to understand how many outliers we are dealing with."
      ],
      "metadata": {
        "id": "3aAR9pHci0cX"
      }
    },
    {
      "cell_type": "code",
      "source": [
        "dfc=df[['Month', 'DayofMonth', 'DayOfWeek', 'CRSDepTime', 'CRSArrTime','CRSElapsedTime', 'AirTime','DepDelay', 'Distance']]\n",
        "fig, axs = plt.subplots(1, len(dfc.columns), figsize=(30,10))\n",
        "\n",
        "for i, ax in enumerate(axs.flat):\n",
        "    ax.boxplot(dfc.iloc[:,i],flierprops = dict(marker='o', markerfacecolor='b', markersize=8, markeredgecolor='w'))\n",
        "    ax.set_title(dfc.columns[i], fontsize=20, fontweight='bold')\n",
        "    ax.tick_params(axis='y', labelsize=14)\n",
        "    #Applying logarithmic scaling to DepDelay\n",
        "    if dfc.columns[i] == 'DepDelay':\n",
        "        ax.semilogy()\n",
        "plt.tight_layout()\n"
      ],
      "metadata": {
        "colab": {
          "base_uri": "https://localhost:8080/",
          "height": 440
        },
        "id": "i-LHkUsCg02n",
        "outputId": "e90c39c5-407a-4ce7-fd01-dd5cf1bf9477"
      },
      "execution_count": null,
      "outputs": [
        {
          "output_type": "display_data",
          "data": {
            "image/png": "[encoded data removed]",
            "text/plain": [
              "<Figure size 2160x720 with 9 Axes>"
            ]
          },
          "metadata": {
            "needs_background": "light"
          }
        }
      ]
    },
    {
      "cell_type": "markdown",
      "source": [
        "As can be observed from the plots, we are dealing with quite a few outliers in the 'DepDelay' and 'Distance' columns.\n",
        "The outliers in the 'Distance' column are a natural part of the population that we studying; most domestic flights cover distances between 0-2000 miles but there are a still flights that cover distnaces greater than that. So the outliers are not bad data. The same can be said about 'DepDelay'. On some occasions flights can be delayed for more than a couple of hours.\n",
        "\n",
        "The boxplots for some of the features did not render here. Let's try plotting them individually and begin preprocessing of our dataset."
      ],
      "metadata": {
        "id": "vGP_24oXJGaz"
      }
    },
    {
      "cell_type": "markdown",
      "source": [
        "#**Data Cleaning and Preprocessing**"
      ],
      "metadata": {
        "id": "pAMcBf_Ktqff"
      }
    },
    {
      "cell_type": "code",
      "source": [
        "fig = plt.figure(figsize=(15, 10))\n",
        "fig.subplots_adjust(left=None, bottom=None, right=None, top=None, wspace=0.3, hspace=None)\n",
        "plt.subplot(1,2,1);\n",
        "df['CRSElapsedTime'].plot.box(flierprops = dict(marker='o', markerfacecolor='b', markersize=8, markeredgecolor='w'));\n",
        "plt.title('CRSElapsedTime in minutes');\n",
        "plt.subplot(1,2,2);\n",
        "df['AirTime'].plot.box(flierprops = dict(marker='o', markerfacecolor='b', markersize=8, markeredgecolor='w'));\n",
        "plt.title('AirTime in minutes');"
      ],
      "metadata": {
        "colab": {
          "base_uri": "https://localhost:8080/",
          "height": 610
        },
        "id": "vOV0fT6cECDz",
        "outputId": "aef59731-2eb4-4e5b-c209-c84c98b27597"
      },
      "execution_count": null,
      "outputs": [
        {
          "output_type": "display_data",
          "data": {
            "image/png": "[encoded data removed]",
            "text/plain": [
              "<Figure size 1080x720 with 2 Axes>"
            ]
          },
          "metadata": {
            "needs_background": "light"
          }
        }
      ]
    },
    {
      "cell_type": "markdown",
      "source": [
        "The outliers in 'AirTime' can also be said to have been caused by longer than usual flights. So it's not all bad data either.\n",
        "\n",
        "> The columns we are interested don't seem to have a lot of bad data, they just seem to be spread out.\n",
        "\n"
      ],
      "metadata": {
        "id": "ip_uEtrtMbXF"
      }
    },
    {
      "cell_type": "markdown",
      "source": [
        "Let's visualize the features to familiarize ourselves more with our predictors. "
      ],
      "metadata": {
        "id": "Lhp_0A55PARf"
      }
    },
    {
      "cell_type": "code",
      "source": [
        "(df['CRSElapsedTime']>300).sum()"
      ],
      "metadata": {
        "colab": {
          "base_uri": "https://localhost:8080/"
        },
        "id": "AJlO8RtdGm4k",
        "outputId": "467ded4d-79b6-481b-d617-6a646704b6b4"
      },
      "execution_count": null,
      "outputs": [
        {
          "output_type": "execute_result",
          "data": {
            "text/plain": [
              "76443"
            ]
          },
          "metadata": {},
          "execution_count": 74
        }
      ]
    },
    {
      "cell_type": "code",
      "source": [
        "(df['ActualElapsedTime']>300).sum()"
      ],
      "metadata": {
        "colab": {
          "base_uri": "https://localhost:8080/"
        },
        "id": "ymKZ-9oqGmw6",
        "outputId": "c09bb755-f124-43f3-9c16-2d54bbd6f924"
      },
      "execution_count": null,
      "outputs": [
        {
          "output_type": "execute_result",
          "data": {
            "text/plain": [
              "74623"
            ]
          },
          "metadata": {},
          "execution_count": 76
        }
      ]
    },
    {
      "cell_type": "code",
      "source": [
        "(df['AirTime']>300).sum()"
      ],
      "metadata": {
        "colab": {
          "base_uri": "https://localhost:8080/"
        },
        "id": "mhKROF2fHWRs",
        "outputId": "937d4464-6bbf-4d9f-d7b7-7e4c9ebd3f61"
      },
      "execution_count": null,
      "outputs": [
        {
          "output_type": "execute_result",
          "data": {
            "text/plain": [
              "42523"
            ]
          },
          "metadata": {},
          "execution_count": 73
        }
      ]
    },
    {
      "cell_type": "markdown",
      "source": [
        ""
      ],
      "metadata": {
        "id": "z1cCIofZjyLn"
      }
    },
    {
      "cell_type": "code",
      "source": [
        "#where do most delayed flights originate from\n",
        "df['Origin'].value_counts()[:10].plot.bar()"
      ],
      "metadata": {
        "id": "l9xGTkXPbY4G"
      },
      "execution_count": null,
      "outputs": []
    },
    {
      "cell_type": "code",
      "source": [
        "#the number of delays caused by each carrier\n",
        "df['UniqueCarrier'].value_counts(normalize=True).plot.barh();"
      ],
      "metadata": {
        "id": "H9myzZE-2n3n"
      },
      "execution_count": null,
      "outputs": []
    },
    {
      "cell_type": "code",
      "source": [
        "df['DayOfWeek'].value_counts().sort_index().plot.bar();\n",
        "#sns.histplot(df['DayOfWeek'])"
      ],
      "metadata": {
        "id": "-klOKSW94MVY"
      },
      "execution_count": null,
      "outputs": []
    },
    {
      "cell_type": "code",
      "source": [
        "dfs=df[df['DayOfWeek']==5]\n",
        "dfs['Origin'].value_counts()[:10].plot.bar();"
      ],
      "metadata": {
        "id": "CY45nGIGY8Qf"
      },
      "execution_count": null,
      "outputs": []
    },
    {
      "cell_type": "code",
      "source": [
        "df['Month'].value_counts(normalize=True).sort_index().plot.bar()\n",
        "#sns.kdeplot(df['Month'])"
      ],
      "metadata": {
        "id": "rN3_sQxQjfkD"
      },
      "execution_count": null,
      "outputs": []
    },
    {
      "cell_type": "code",
      "source": [
        "#dfs=df[df['Month']==12]\n",
        "#dfs['DayofMonth'].value_counts()[:10].plot.bar()  #do kde\n",
        "plt.hist(df['CRSDepTime'],bins=20)"
      ],
      "metadata": {
        "id": "cZhG0NjtxOK8"
      },
      "execution_count": null,
      "outputs": []
    },
    {
      "cell_type": "code",
      "source": [
        "sns.histplot(x=df['ArrDelay'])"
      ],
      "metadata": {
        "id": "JUbk2bRCclsR"
      },
      "execution_count": null,
      "outputs": []
    },
    {
      "cell_type": "markdown",
      "source": [
        "ENCODING CYCLICAL VARIABLES"
      ],
      "metadata": {
        "id": "jsmTr1w_E4J3"
      }
    },
    {
      "cell_type": "code",
      "source": [
        "df['CRSDepTime_sin'] = np.sin(df['CRSDepTime']*(2.*np.pi/24))\n",
        "df['CRSDepTime_cos'] = np.cos(df['CRSDepTime']*(2.*np.pi/24))\n",
        "df['CRSArrTime_sin'] = np.sin(df['CRSArrTime']*(2.*np.pi/24))\n",
        "df['CRSArrTime_cos'] = np.cos(df['CRSArrTime']*(2.*np.pi/24))\n",
        "df['DayofMonth_sin'] = np.sin((df['DayofMonth']-1)*(2.*np.pi/12))\n",
        "df['DayofMonth_cos'] = np.cos((df['DayofMonth']-1)*(2.*np.pi/12))\n",
        "df['DayOfWeek_sin'] = np.sin((df['DayOfWeek']-1)*(2.*np.pi/7))\n",
        "df['DayOfWeek_cos'] = np.cos((df['DayOfWeek']-1)*(2.*np.pi/7))"
      ],
      "metadata": {
        "id": "M952Ftm_EyRy"
      },
      "execution_count": null,
      "outputs": []
    },
    {
      "cell_type": "code",
      "execution_count": null,
      "metadata": {
        "id": "X8LR1RvJvh_w"
      },
      "outputs": [],
      "source": [
        "df.drop(df[['Year','TailNum','FlightNum','ActualElapsedTime','CRSElapsedTime','TaxiIn','TaxiOut','CancellationCode','Cancelled','Diverted','CarrierDelay','WeatherDelay', 'NASDelay', 'SecurityDelay', 'LateAircraftDelay']],axis=1,inplace=True)"
      ]
    },
    {
      "cell_type": "code",
      "source": [
        "df.info()"
      ],
      "metadata": {
        "id": "3akkUWkUFHFw"
      },
      "execution_count": null,
      "outputs": []
    },
    {
      "cell_type": "code",
      "source": [
        "df.isna().mean().mean()"
      ],
      "metadata": {
        "id": "hj46ZvaVt2aK"
      },
      "execution_count": null,
      "outputs": []
    },
    {
      "cell_type": "code",
      "source": [
        "df.nunique().sort_values(ascending=False)"
      ],
      "metadata": {
        "id": "kCl02RoLuv8P"
      },
      "execution_count": null,
      "outputs": []
    },
    {
      "cell_type": "code",
      "execution_count": null,
      "metadata": {
        "id": "ixh-Wdm1vr7m"
      },
      "outputs": [],
      "source": [
        "#replacing nan values with 0.0\n",
        "delay={'CarrierDelay':0.0,'WeatherDelay':0.0,'NASDelay':0.0,'SecurityDelay':0.0,'LateAircraftDelay':0.0}\n",
        "df.fillna(delay,inplace=True)"
      ]
    },
    {
      "cell_type": "code",
      "execution_count": null,
      "metadata": {
        "id": "WGF-eR3EbCY_"
      },
      "outputs": [],
      "source": [
        "#Decoding the carrier names\n",
        "carrier={'9E':'Pinnacle','AA':'American','AS':'Alaska','B6':'JetBlue','CO':'Continental','DL':'Delta Air','EV':'Atlantic Southeast','F9':'Frontier','FL':'AirTran','MQ':'American Eagle','NW':'Northwest','OH':'Comair','OO':'SkyWest','RU':'ExpressJet','UA':'United Airlines','US':'US Airways','WN':'Southwest','XE':'ExpressJet','YV':'Mesa'}\n",
        "df['UniqueCarrier'].replace(carrier,inplace=True)"
      ]
    },
    {
      "cell_type": "code",
      "source": [
        "df.drop(df.index[df['ArrDelay'].isnull()],inplace=True)"
      ],
      "metadata": {
        "id": "R4JLdSRt1mLH"
      },
      "execution_count": null,
      "outputs": []
    },
    {
      "cell_type": "markdown",
      "source": [
        "#**Visualization**"
      ],
      "metadata": {
        "id": "EabEwsJM3rGL"
      }
    },
    {
      "cell_type": "code",
      "source": [
        "dfs=df[df['ArrDelay']>180]\n",
        "dfs['UniqueCarrier'].value_counts().plot.bar()"
      ],
      "metadata": {
        "id": "0GsaNRGHnqgd"
      },
      "execution_count": null,
      "outputs": []
    },
    {
      "cell_type": "markdown",
      "source": [
        "###**ML**"
      ],
      "metadata": {
        "id": "Oo-eQYcDkRRU"
      }
    },
    {
      "cell_type": "code",
      "source": [
        "arrMode=df['ArrDelay'].mode()[0]\n",
        "def funcy(s):\n",
        "  if(s>=arrMode):\n",
        "    return 1\n",
        "  else:\n",
        "    return 0"
      ],
      "metadata": {
        "id": "gLBtTuwNq0vn"
      },
      "execution_count": null,
      "outputs": []
    },
    {
      "cell_type": "code",
      "source": [
        "  df['Delay']= df['ArrDelay'].apply(funcy)\n",
        "  df['Delay'].value_counts()"
      ],
      "metadata": {
        "id": "ewxLZzy7PzhY"
      },
      "execution_count": null,
      "outputs": []
    },
    {
      "cell_type": "code",
      "source": [
        "df.isnull().sum()"
      ],
      "metadata": {
        "id": "VuVQl2KrykRi"
      },
      "execution_count": null,
      "outputs": []
    },
    {
      "cell_type": "code",
      "source": [
        "dfc = df[df['ArrDelay']<300]\n",
        "dfc=dfc[dfc['Month']==12]"
      ],
      "metadata": {
        "id": "khdvl_6CkVGJ"
      },
      "execution_count": null,
      "outputs": []
    },
    {
      "cell_type": "code",
      "source": [
        "target='Delay'\n",
        "predictors=list(dfc.columns)\n",
        "predictors.remove(target)\n",
        "rem=['UniqueCarrier','Dest','Origin']#,'DayofMonth','DayOfWeek','ArrDelay','DepDelay']\n",
        "for x in rem:\n",
        "  predictors.remove(x)\n",
        "\n",
        "X=dfc[predictors]\n",
        "y=dfc[target]\n",
        "X_train, X_test, y_train, y_test = train_test_split(X, y, test_size=0.3, random_state=0)"
      ],
      "metadata": {
        "id": "4ZYoL7Q6kYcQ"
      },
      "execution_count": null,
      "outputs": []
    },
    {
      "cell_type": "code",
      "source": [
        "#Sanity Check\n",
        "print(X_train.shape)\n",
        "print(y_train.shape)"
      ],
      "metadata": {
        "id": "t9pKDuOuknih"
      },
      "execution_count": null,
      "outputs": []
    },
    {
      "cell_type": "code",
      "source": [
        "#blind_prediction = pd.Series(y_train)\n",
        "baseline_accuracy = (y_train == 1).mean()\n",
        "print('Baseline Accuracy: {:.3f}'.format(baseline_accuracy))"
      ],
      "metadata": {
        "id": "Y4fL0O6fkpnR"
      },
      "execution_count": null,
      "outputs": []
    },
    {
      "cell_type": "code",
      "source": [
        "grid=[{'n_neighbors':range(3,15),'weights':['uniform','distance'],'p':[1,2]}]\n",
        "knnCV= GridSearchCV(KNeighborsClassifier(),grid,cv=10,scoring='accuracy')"
      ],
      "metadata": {
        "id": "o5BMzI4xZWys"
      },
      "execution_count": null,
      "outputs": []
    },
    {
      "cell_type": "code",
      "source": [
        "X_train, X_test, y_train, y_test = train_test_split(X, y, test_size=0.45, random_state=0)"
      ],
      "metadata": {
        "id": "NPRRXvGjoWN3"
      },
      "execution_count": null,
      "outputs": []
    },
    {
      "cell_type": "code",
      "source": [
        "knnCV.fit(X_train,y_train)"
      ],
      "metadata": {
        "id": "I_ZjmBlta3g0"
      },
      "execution_count": null,
      "outputs": []
    },
    {
      "cell_type": "code",
      "source": [
        "#Forward Feature Selection\n",
        "def forward_selection_classif(knnCV, X, y, threshold=None, num_folds=5):      \n",
        "    remaining = list(range(X.shape[1]))\n",
        "    selected = []\n",
        "    accuracies = []\n",
        "    previous_best = 0.0\n",
        "    while len(remaining) > 0:\n",
        "        \n",
        "        best_i, best_accuracy = 0, 0.0\n",
        "        for i in remaining:\n",
        "            accuracy = cross_val_score(knnCV, X[:,selected+[i]], y, cv=num_folds).mean()\n",
        "            if accuracy > best_accuracy:\n",
        "                best_i, best_accuracy = i, accuracy\n",
        "                \n",
        "        if (threshold is not None) and (best_accuracy - previous_best) < threshold:\n",
        "             break\n",
        "        selected.append(best_i)\n",
        "        accuracies.append(best_accuracy)\n",
        "        remaining.remove(best_i)\n",
        "        previous_best = best_accuracy\n",
        "    return np.array(selected), accuracies"
      ],
      "metadata": {
        "id": "4yv1xLwOt3_s"
      },
      "execution_count": null,
      "outputs": []
    },
    {
      "cell_type": "code",
      "source": [
        "def plot_selected(selected, accuracies, predictors):\n",
        "    pd.Series(accuracies, index=predictors[selected]).plot.barh()\n",
        "    plt.xlim(0.5, 1.0)\n",
        "    plt.xlabel('Cross-validation accuracy')\n",
        "    plt.title('Result of forward feature selection')"
      ],
      "metadata": {
        "id": "viIrcqRY368Q"
      },
      "execution_count": null,
      "outputs": []
    },
    {
      "cell_type": "code",
      "source": [
        "selected, accuracies = forward_selection_classif(knnCV.best_estimator_, X_train, y_train, num_folds=10)\n",
        "plot_selected(selected[:10], accuracies[:10], np.array(predictors))"
      ],
      "metadata": {
        "id": "PKx6krGK38Vb"
      },
      "execution_count": null,
      "outputs": []
    },
    {
      "cell_type": "code",
      "source": [
        "y_pred=knnCV.predict(X_test)"
      ],
      "metadata": {
        "id": "enyAs9iOwFU8"
      },
      "execution_count": null,
      "outputs": []
    },
    {
      "cell_type": "code",
      "source": [
        "#training accuracy\n",
        "knnCV.best_score_"
      ],
      "metadata": {
        "id": "NgnnarFI-46_"
      },
      "execution_count": null,
      "outputs": []
    },
    {
      "cell_type": "code",
      "source": [
        "#test accuracy\n",
        "knnCV.best_estimator_.score(X_test,y_test)"
      ],
      "metadata": {
        "id": "PoZJYvCywPco"
      },
      "execution_count": null,
      "outputs": []
    },
    {
      "cell_type": "code",
      "source": [
        "pd.crosstab(y_pred,y_test,normalize='index').plot.bar(stacked=True)"
      ],
      "metadata": {
        "id": "U9UvFrYuwDN9"
      },
      "execution_count": null,
      "outputs": []
    },
    {
      "cell_type": "code",
      "source": [
        "train_sizes, train_scores, test_scores = learning_curve(knnCV.best_estimator_, X_train, y_train, cv=10, scoring='accuracy')\n",
        "\n",
        "train_scores_mean = np.mean(train_scores, axis=1)\n",
        "test_scores_mean = np.mean(test_scores, axis=1)"
      ],
      "metadata": {
        "id": "EzbbO0gxwXjR"
      },
      "execution_count": null,
      "outputs": []
    },
    {
      "cell_type": "code",
      "source": [
        "plt.plot(train_sizes, train_scores_mean, label='train')\n",
        "plt.plot(train_sizes, test_scores_mean, label='test')\n",
        "plt.xlabel('training set size')\n",
        "plt.ylabel('Accuracy')\n",
        "plt.title('Learning curve, decision tree')\n",
        "plt.legend()"
      ],
      "metadata": {
        "id": "-N8gFwKs0rf-"
      },
      "execution_count": null,
      "outputs": []
    },
    {
      "cell_type": "code",
      "source": [
        "pf=PolynomialFeatures(degree=2,include_bias=False)\n",
        "pf.fit(X)\n",
        "X_poly=pf.transform(X)"
      ],
      "metadata": {
        "id": "MQYPlgKandkM"
      },
      "execution_count": null,
      "outputs": []
    },
    {
      "cell_type": "code",
      "source": [
        "X_train, X_test, y_train, y_test = train_test_split(X_poly, y, test_size=0.4, random_state=0)"
      ],
      "metadata": {
        "id": "Z53TipTCoe9P"
      },
      "execution_count": null,
      "outputs": []
    },
    {
      "cell_type": "code",
      "source": [
        "#training accuracy with polynomial features\n",
        "knnCV.best_estimator_.fit(X_train,y_train)\n",
        "knnCV.best_score_"
      ],
      "metadata": {
        "id": "Njgl9fUXokTg"
      },
      "execution_count": null,
      "outputs": []
    },
    {
      "cell_type": "code",
      "source": [
        "y_pred=knnCV.predict(X_test)"
      ],
      "metadata": {
        "id": "Vnm7Im_aoywr"
      },
      "execution_count": null,
      "outputs": []
    },
    {
      "cell_type": "code",
      "source": [
        "#test accuracy with polynomial features\n",
        "(y_pred==y_test).mean()"
      ],
      "metadata": {
        "id": "hf7NfNcn0cbg"
      },
      "execution_count": null,
      "outputs": []
    },
    {
      "cell_type": "code",
      "source": [
        "pd.crosstab(y_pred,y_test,normalize='index').plot.bar(stacked=True)"
      ],
      "metadata": {
        "id": "CcsrW9IaBJQY"
      },
      "execution_count": null,
      "outputs": []
    },
    {
      "cell_type": "code",
      "source": [
        "train_sizes, train_scores, test_scores = learning_curve(knnCV.best_estimator_, X_train, y_train, cv=10, scoring='accuracy')\n",
        "\n",
        "train_scores_mean = np.mean(train_scores, axis=1)\n",
        "test_scores_mean = np.mean(test_scores, axis=1)"
      ],
      "metadata": {
        "id": "et5YOJBtAw1V"
      },
      "execution_count": null,
      "outputs": []
    },
    {
      "cell_type": "code",
      "source": [
        "plt.plot(train_sizes, train_scores_mean, label='train')\n",
        "plt.plot(train_sizes, test_scores_mean, label='test')\n",
        "plt.xlabel('training set size')\n",
        "plt.ylabel('Accuracy')\n",
        "plt.title('Learning curve, decision tree')\n",
        "plt.legend()"
      ],
      "metadata": {
        "id": "PGzrimMgAyxm"
      },
      "execution_count": null,
      "outputs": []
    }
  ],
  "metadata": {
    "colab": {
      "collapsed_sections": [],
      "name": "Project2.ipynb",
      "provenance": []
    },
    "kernelspec": {
      "display_name": "Python 3",
      "name": "python3"
    },
    "language_info": {
      "name": "python"
    }
  },
  "nbformat": 4,
  "nbformat_minor": 0
}